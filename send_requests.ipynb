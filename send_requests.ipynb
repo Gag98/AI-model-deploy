{
 "cells": [
  {
   "cell_type": "code",
   "execution_count": 1,
   "id": "93139ceb",
   "metadata": {},
   "outputs": [],
   "source": [
    "import requests"
   ]
  },
  {
   "cell_type": "code",
   "execution_count": 2,
   "id": "1d31f74b",
   "metadata": {},
   "outputs": [],
   "source": [
    "URL = \"http://0.0.0.0:8001/coords-classification/\""
   ]
  },
  {
   "cell_type": "code",
   "execution_count": 3,
   "id": "1a5163b3",
   "metadata": {},
   "outputs": [],
   "source": [
    "result = requests.post(\n",
    "    URL, json={\"coords\": [[8.0, -5.0]]}\n",
    ")"
   ]
  },
  {
   "cell_type": "code",
   "execution_count": 4,
   "id": "0991ff26",
   "metadata": {},
   "outputs": [],
   "source": [
    "# result.json()"
   ]
  },
  {
   "cell_type": "code",
   "execution_count": null,
   "id": "f2624732",
   "metadata": {},
   "outputs": [],
   "source": []
  }
 ],
 "metadata": {
  "kernelspec": {
   "display_name": "Python 3 (ipykernel)",
   "language": "python",
   "name": "python3"
  },
  "language_info": {
   "codemirror_mode": {
    "name": "ipython",
    "version": 3
   },
   "file_extension": ".py",
   "mimetype": "text/x-python",
   "name": "python",
   "nbconvert_exporter": "python",
   "pygments_lexer": "ipython3",
   "version": "3.11.4"
  }
 },
 "nbformat": 4,
 "nbformat_minor": 5
}
